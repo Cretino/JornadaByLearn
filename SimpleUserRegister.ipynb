{
  "nbformat": 4,
  "nbformat_minor": 0,
  "metadata": {
    "colab": {
      "name": "SimpleUserRegister.ipynb",
      "provenance": [],
      "authorship_tag": "ABX9TyMJAGACnUa11MieGksQPVgu",
      "include_colab_link": true
    },
    "kernelspec": {
      "name": "python3",
      "display_name": "Python 3"
    }
  },
  "cells": [
    {
      "cell_type": "markdown",
      "metadata": {
        "id": "view-in-github",
        "colab_type": "text"
      },
      "source": [
        "<a href=\"https://colab.research.google.com/github/Cretino/JornadaByLearn/blob/main/SimpleUserRegister.ipynb\" target=\"_parent\"><img src=\"https://colab.research.google.com/assets/colab-badge.svg\" alt=\"Open In Colab\"/></a>"
      ]
    },
    {
      "cell_type": "markdown",
      "metadata": {
        "id": "YwwOe9OvTxcN"
      },
      "source": [
        "# Cadastro de Usuário Simples feito em Python para Jornada ByLearn - Faixa Preta (Nome completo, Endereço, Telefone e Data de Nascimento)\r\n",
        "\r\n",
        "Com a possibilidade de inserir novos usuários e listar usuários cadastrados.\r\n",
        "\r\n",
        "Por enquanto os usuários só ficam salvo na memória em tempo de execução :/\r\n",
        "\r\n",
        "\r\n",
        "Feito por:\r\n",
        "\r\n",
        "Yure Moreira Lima (Nick: Cretino) (Sim, isso mesmo! kkkk)\r\n",
        "\r\n",
        "\r\n",
        "\r\n"
      ]
    },
    {
      "cell_type": "code",
      "metadata": {
        "id": "mXbpG_TTUMoX"
      },
      "source": [
        "# Cria a lista de usuários vazia para começar trabalhar.\r\n",
        "user_list = {}\r\n",
        "\r\n",
        "# Variável que determina se o programa está rodando ou não. ('True' = Sim, 'False' = Não)\r\n",
        "# Não mudar o valor para 'False' se não o programa não irá executar nenhuma vez.\r\n",
        "running = True\r\n",
        "\r\n",
        "# Função para registrar um novo usuário.\r\n",
        "def register_user():\r\n",
        "  name = input('Digite o nome do usuário:\\n')\r\n",
        "  address = input('Digite o Endereço:\\n')\r\n",
        "  phone_number = input('Digite o Telefone:\\n')\r\n",
        "  birth_day = input('Digite a Data de Nascimento: (Ex: 01/01/1992 => 01 de Janeiro de 1992)\\n')\r\n",
        "\r\n",
        "  # Após pegar todas as informações, usamos a função 'dict(nome_do_dicionário=valor_do_dicionário)'\r\n",
        "  # para criar os dicionários e adicionar as informações do usuário de forma correta\r\n",
        "  # A função 'len(user_list)' garante que sempre irá adicionar as novas informações na última posição do dicionário,\r\n",
        "  # para não ter risco de sobreescrever informações de outros usuários já cadastrados.\r\n",
        "  user_list[len(user_list)] = dict(name=name, address=address, phone=phone_number, birth=birth_day)\r\n",
        "\r\n",
        "  print(f'Usuário cadastrado com sucesso!\\nTotal de usuários: {len(user_list)}\\n')\r\n",
        "\r\n",
        "# Função para pegar as informações e exibir de um usuário cadastrado a partir do índice.\r\n",
        "def get_user_info(index):\r\n",
        "  # Só é possível pegar as informações se tiver algum usuário cadastrado\r\n",
        "  if len(user_list) <= 0 or index > len(user_list):\r\n",
        "    print('Desculpe mas não foi possível achar nenhum usuário cadastrado...\\n')\r\n",
        "  else:\r\n",
        "    # A função 'list(user_list[index].values())' converte os valores do dicionário selecionado para uma lista, assim podendo pegar as informações do usuário.\r\n",
        "    user_info = list(user_list[index].values())\r\n",
        "    print(f'Usuário {index + 1}\\n\\nNome: {user_info[0]}\\nEndereço: {user_info[1]}\\nTelefone:{user_info[2]}\\nData de Nascimento: {user_info[3]}\\n')\r\n",
        "\r\n",
        "# Laço de repetição 'while' para que o usuário consiga usar o programa de forma mais dinâmica.\r\n",
        "# Enquanto 'running' for verdadeiro, o programa estará em execução.\r\n",
        "while running == True:\r\n",
        "  # Essa parte do programa só será executada uma vez, por que não possuimos nenhum usuário cadastrado.\r\n",
        "  if len(user_list) <= 0:\r\n",
        "    print('Você deseja adicionar um novo usuário?\\nDigite \\'y\\' para \\'sim\\' e \\'n\\' para \\'não\\'.')\r\n",
        "    choise = input()\r\n",
        "\r\n",
        "    # Aqui só verificamos se o usuário digitou 'y' ou 'yes' para então começarmos trabalhar com o cadastro.\r\n",
        "    # Qualquer coisa diferente disso encerra o programa.\r\n",
        "    # Usamos a função 'lower()' para que não tenha diferenças entre letras maiúsculas e minúsculas.\r\n",
        "    if choise.lower() == 'y' or choise.lower() == 'yes':\r\n",
        "      print('Então vamos começar!')\r\n",
        "      # Depois de validar a entrada do usuário, chamamos a função de registro de usuário.\r\n",
        "      register_user()\r\n",
        "    else:\r\n",
        "      print('Tudo bem!')\r\n",
        "      # Se o usuário digitou qualquer coisa diferente de 'y' ou 'yes', paramos a execução do programa.\r\n",
        "      running = False\r\n",
        "  else:\r\n",
        "    # Esta parte do código continuará em execução até o usuário entrar com algum valor diferente de 'n' ou 'new' ou 'l' ou 'list'.\r\n",
        "    # Qualquer coisa diferente disso encerra o programa.\r\n",
        "    # Usamos a função 'lower()' para que não tenha diferenças entre letras maiúsculas e minúsculas.\r\n",
        "    print('Selecione o que deseja fazer:')\r\n",
        "    print('Digite \\'n\\' ou \\'new\\' para cadastrar um novo usuário, \\'l\\' ou \\'list\\' para ver a lista de usuários cadastrados e \\'e\\' ou \\'end\\' para encerrar o programa.')\r\n",
        "    choise = input()\r\n",
        "\r\n",
        "    if choise.lower() == 'n' or choise.lower() == 'new':\r\n",
        "      # Chama a função de registrar um novo usuário.\r\n",
        "      register_user()\r\n",
        "    elif choise.lower() == 'l' or choise.lower() == 'list':\r\n",
        "      # Criamos um laço de repetição 'for' para 'andar' por toda a lista de usuários.\r\n",
        "      for index in range(len(user_list)):\r\n",
        "        # Aqui chamamos a função que pega as informações de cada usuário da lista e exibimos as informações.\r\n",
        "        # A função necessita que seja passado o índice do usuário para que possa pegar as informações.\r\n",
        "        get_user_info(index)\r\n",
        "    else:\r\n",
        "      print('Tudo bem!')\r\n",
        "      # Se o usuário digitou qualquer coisa diferente de 'n' ou 'new' ou 'l' ou 'list', paramos a execução do programa.\r\n",
        "      # Não precisamos verificar 'e' ou 'end' por que qualquer coisa diferente\r\n",
        "      # das primeiras opções já significa que podemos encerrar a execução do programa.\r\n",
        "      running = False"
      ],
      "execution_count": null,
      "outputs": []
    }
  ]
}